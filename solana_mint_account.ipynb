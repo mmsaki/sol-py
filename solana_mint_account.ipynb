{
 "cells": [
  {
   "cell_type": "markdown",
   "id": "38d88f1f-f87c-4a1e-8115-8dac85c4a53a",
   "metadata": {},
   "source": [
    "# Solana Python packages\n",
    "- [Solanapy](https://github.com/michaelhly/solana-py)\n",
    "- [Solders](https://github.com/kevinheavey/solders)"
   ]
  },
  {
   "cell_type": "code",
   "execution_count": 15,
   "id": "cd18d133-c407-4e1f-b798-faffc8a8bbdf",
   "metadata": {},
   "outputs": [
    {
     "data": {
      "text/plain": [
       "['__builtins__',\n",
       " '__cached__',\n",
       " '__doc__',\n",
       " '__file__',\n",
       " '__loader__',\n",
       " '__name__',\n",
       " '__package__',\n",
       " '__path__',\n",
       " '__spec__',\n",
       " 'blockhash',\n",
       " 'exceptions',\n",
       " 'rpc',\n",
       " 'sys',\n",
       " 'transaction']"
      ]
     },
     "execution_count": 15,
     "metadata": {},
     "output_type": "execute_result"
    }
   ],
   "source": [
    "import solana\n",
    "dir(solana)"
   ]
  },
  {
   "cell_type": "code",
   "execution_count": 14,
   "id": "e741cfc3-436b-4200-b4d9-22afdfb728d7",
   "metadata": {},
   "outputs": [
    {
     "data": {
      "text/plain": [
       "['__all__',\n",
       " '__annotations__',\n",
       " '__builtins__',\n",
       " '__cached__',\n",
       " '__doc__',\n",
       " '__file__',\n",
       " '__loader__',\n",
       " '__name__',\n",
       " '__package__',\n",
       " '__path__',\n",
       " '__spec__',\n",
       " '__version__',\n",
       " '_version_untyped',\n",
       " 'account_decoder',\n",
       " 'address_lookup_table_account',\n",
       " 'commitment_config',\n",
       " 'errors',\n",
       " 'hash',\n",
       " 'instruction',\n",
       " 'keypair',\n",
       " 'message',\n",
       " 'null_signer',\n",
       " 'presigner',\n",
       " 'pubkey',\n",
       " 'rpc',\n",
       " 'signature',\n",
       " 'solders',\n",
       " 'system_program',\n",
       " 'sysvar',\n",
       " 'transaction',\n",
       " 'transaction_status']"
      ]
     },
     "execution_count": 14,
     "metadata": {},
     "output_type": "execute_result"
    }
   ],
   "source": [
    "import solders\n",
    "dir(solders)"
   ]
  },
  {
   "cell_type": "code",
   "execution_count": 99,
   "id": "ac7d9c91-6439-4825-a425-0013636d0dfe",
   "metadata": {},
   "outputs": [],
   "source": [
    "import struct\n",
    "from pprint import pprint as p\n",
    "from solana.rpc.api import Client\n",
    "from solders.pubkey import Pubkey\n",
    "from solders.transaction import Transaction\n",
    "from solders.message import Message\n",
    "from solders.keypair import Keypair\n",
    "from solders.instruction import Instruction\n",
    "from solders.hash import Hash\n",
    "from base58 import b58encode, b58decode as b58d"
   ]
  },
  {
   "cell_type": "code",
   "execution_count": 30,
   "id": "9d65b49f-7be7-4215-b44c-09faaf9570e6",
   "metadata": {},
   "outputs": [],
   "source": [
    "b58 = lambda x: b58encode(x).decode('ascii')"
   ]
  },
  {
   "cell_type": "code",
   "execution_count": 130,
   "id": "8d24dede-985d-46fa-9b36-836142ec2454",
   "metadata": {},
   "outputs": [],
   "source": [
    "local = \"http://localhost:8899\"\n",
    "devnet = Client(\"https://api.devnet.solana.com\")"
   ]
  },
  {
   "cell_type": "code",
   "execution_count": 127,
   "id": "6e1d38a2-c9fa-4ded-a7b0-2eb9800b812f",
   "metadata": {},
   "outputs": [],
   "source": [
    "client = Client(\"https://api.mainnet-beta.solana.com\")"
   ]
  },
  {
   "cell_type": "code",
   "execution_count": 132,
   "id": "bc3df7fd-9665-4755-b35b-6c43313c1a87",
   "metadata": {},
   "outputs": [],
   "source": [
    "usdc = Pubkey.from_string('EPjFWdd5AufqSSqeM2qN1xzybapC8G4wEGGkZwyTDt1v')\n",
    "ai = client.get_account_info_json_parsed(usdc)"
   ]
  },
  {
   "cell_type": "code",
   "execution_count": 133,
   "id": "228c7859-78fc-4374-ba80-f76a770a644d",
   "metadata": {},
   "outputs": [
    {
     "name": "stdout",
     "output_type": "stream",
     "text": [
      "GetAccountInfoMaybeJsonParsedResp {\n",
      "    context: RpcResponseContext {\n",
      "        slot: 176278082,\n",
      "        api_version: Some(\n",
      "            \"1.13.5\",\n",
      "        ),\n",
      "    },\n",
      "    value: Some(\n",
      "        Parsed(\n",
      "            AccountJSON {\n",
      "                lamports: 181498617139,\n",
      "                data: ParsedAccount(\n",
      "                    ParsedAccount {\n",
      "                        program: \"spl-token\",\n",
      "                        parsed: Object {\n",
      "                            \"info\": Object {\n",
      "                                \"decimals\": Number(6),\n",
      "                                \"freezeAuthority\": String(\"3sNBr7kMccME5D55xNgsmYpZnzPgP2g12CixAajXypn6\"),\n",
      "                                \"isInitialized\": Bool(true),\n",
      "                                \"mintAuthority\": String(\"2wmVCSfPxGPjrnMMn7rchp4uaeoTqN39mXFC2zhPdri9\"),\n",
      "                                \"supply\": String(\"5034954022272414\"),\n",
      "                            },\n",
      "                            \"type\": String(\"mint\"),\n",
      "                        },\n",
      "                        space: 82,\n",
      "                    },\n",
      "                ),\n",
      "                owner: Pubkey(\n",
      "                    TokenkegQfeZyiNwAJbNbGKPFXCWuBvf9Ss623VQ5DA,\n",
      "                ),\n",
      "                executable: false,\n",
      "                rent_epoch: 361,\n",
      "            },\n",
      "        ),\n",
      "    ),\n",
      "}\n"
     ]
    }
   ],
   "source": [
    "p(ai)"
   ]
  },
  {
   "cell_type": "code",
   "execution_count": 134,
   "id": "6ed9f9a9-83ce-4a70-b364-db36dedc244b",
   "metadata": {},
   "outputs": [
    {
     "data": {
      "text/plain": [
       "159854432"
      ]
     },
     "execution_count": 134,
     "metadata": {},
     "output_type": "execute_result"
    }
   ],
   "source": [
    "client.get_block_height().value"
   ]
  },
  {
   "cell_type": "code",
   "execution_count": 135,
   "id": "d356b772-620c-45c5-8a8f-1cb98ff90bf0",
   "metadata": {},
   "outputs": [
    {
     "data": {
      "text/plain": [
       "372699657715029820"
      ]
     },
     "execution_count": 135,
     "metadata": {},
     "output_type": "execute_result"
    }
   ],
   "source": [
    "client.get_supply().value.circulating"
   ]
  },
  {
   "cell_type": "code",
   "execution_count": 138,
   "id": "4faccf00-6db9-4a0a-8e45-cefe6682d900",
   "metadata": {},
   "outputs": [
    {
     "data": {
      "text/plain": [
       "Pubkey(\n",
       "    3s96it7BHYGDSBmtmfJDmrvffcJLnYzkLmbwFwHGjQRx,\n",
       ")"
      ]
     },
     "execution_count": 138,
     "metadata": {},
     "output_type": "execute_result"
    }
   ],
   "source": [
    "client.get_identity().value.identity"
   ]
  },
  {
   "cell_type": "code",
   "execution_count": null,
   "id": "7fdfddec-ecf5-46c7-a202-6f9e7b62c341",
   "metadata": {},
   "outputs": [],
   "source": []
  }
 ],
 "metadata": {
  "kernelspec": {
   "display_name": "base",
   "language": "python",
   "name": "base"
  },
  "language_info": {
   "codemirror_mode": {
    "name": "ipython",
    "version": 3
   },
   "file_extension": ".py",
   "mimetype": "text/x-python",
   "name": "python",
   "nbconvert_exporter": "python",
   "pygments_lexer": "ipython3",
   "version": "3.9.13"
  }
 },
 "nbformat": 4,
 "nbformat_minor": 5
}
