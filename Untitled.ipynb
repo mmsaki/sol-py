{
 "cells": [
  {
   "cell_type": "code",
   "execution_count": 6,
   "id": "946f1ace-f574-4e8d-8d84-777b708c9d98",
   "metadata": {},
   "outputs": [],
   "source": [
    "from solana.rpc.api import Client\n",
    "from solders.pubkey import Pubkey\n",
    "\n",
    "client = Client(\"http://localhost:8899\")\n",
    "publickey = client.get_account_info(Pubkey([0] * 31 + [1]))"
   ]
  },
  {
   "cell_type": "code",
   "execution_count": 7,
   "id": "c69fbf4a-f054-4d5e-95aa-653ea9a2f999",
   "metadata": {},
   "outputs": [
    {
     "data": {
      "text/plain": [
       "GetAccountInfoResp {\n",
       "    context: RpcResponseContext {\n",
       "        slot: 1541,\n",
       "        api_version: Some(\n",
       "            \"1.14.11\",\n",
       "        ),\n",
       "    },\n",
       "    value: None,\n",
       "}"
      ]
     },
     "execution_count": 7,
     "metadata": {},
     "output_type": "execute_result"
    }
   ],
   "source": [
    "publickey"
   ]
  },
  {
   "cell_type": "code",
   "execution_count": 23,
   "id": "dc643d00-3311-4b6b-86f0-4c3a94c75029",
   "metadata": {},
   "outputs": [],
   "source": [
    "pubkey = Pubkey(bytes([1] * 32))"
   ]
  },
  {
   "cell_type": "code",
   "execution_count": 24,
   "id": "9f71e36f-1739-478a-b253-0420fa78419d",
   "metadata": {},
   "outputs": [
    {
     "data": {
      "text/plain": [
       "Pubkey(\n",
       "    4vJ9JU1bJJE96FWSJKvHsmmFADCg4gpZQff4P3bkLKi,\n",
       ")"
      ]
     },
     "execution_count": 24,
     "metadata": {},
     "output_type": "execute_result"
    }
   ],
   "source": [
    "pubkey"
   ]
  },
  {
   "cell_type": "code",
   "execution_count": 22,
   "id": "6702ad23-aa5e-4ed7-be51-bf0a1fa301f1",
   "metadata": {},
   "outputs": [
    {
     "data": {
      "text/plain": [
       "b'\\x01\\x01\\x01\\x01\\x01\\x01\\x01\\x01\\x01\\x01\\x01\\x01\\x01\\x01\\x01\\x01\\x01\\x01\\x01\\x01\\x01\\x01\\x01\\x01\\x01\\x01\\x01\\x01\\x01\\x01\\x01\\x01'"
      ]
     },
     "execution_count": 22,
     "metadata": {},
     "output_type": "execute_result"
    }
   ],
   "source": [
    "bytes(pubkey) "
   ]
  },
  {
   "cell_type": "code",
   "execution_count": 35,
   "id": "a767da22-824b-4efd-abb4-90a485cc1e39",
   "metadata": {},
   "outputs": [
    {
     "data": {
      "text/plain": [
       "Pubkey(\n",
       "    4vJ9JU1bJJE96FWSJKvHsmmFADCg4gpZQff4P3bkLKi,\n",
       ")"
      ]
     },
     "execution_count": 35,
     "metadata": {},
     "output_type": "execute_result"
    }
   ],
   "source": [
    "Pubkey.from_string('4vJ9JU1bJJE96FWSJKvHsmmFADCg4gpZQff4P3bkLKi')"
   ]
  }
 ],
 "metadata": {
  "kernelspec": {
   "display_name": "base",
   "language": "python",
   "name": "base"
  },
  "language_info": {
   "codemirror_mode": {
    "name": "ipython",
    "version": 3
   },
   "file_extension": ".py",
   "mimetype": "text/x-python",
   "name": "python",
   "nbconvert_exporter": "python",
   "pygments_lexer": "ipython3",
   "version": "3.9.13"
  }
 },
 "nbformat": 4,
 "nbformat_minor": 5
}
